{
 "cells": [
  {
   "cell_type": "code",
   "execution_count": 1,
   "metadata": {},
   "outputs": [],
   "source": [
    "from controleII import digital\n",
    "from lcapy.discretetime import z, n\n",
    "from lcapy import s\n",
    "from control import tf"
   ]
  },
  {
   "cell_type": "code",
   "execution_count": 2,
   "metadata": {},
   "outputs": [
    {
     "data": {
      "image/png": "[encoded data removed]",
      "text/latex": [
       "$$25 \\delta\\left[n\\right] + \\frac{75}{4} - \\frac{175 \\cdot 5^{- n}}{4} \\;\\; \\text{for}\\: n \\geq 0$$"
      ],
      "text/plain": [
       "                    -n           \n",
       "          75   175⋅5             \n",
       "25⋅δ[n] + ── - ───────  for n ≥ 0\n",
       "          4       4              "
      ]
     },
     "metadata": {},
     "output_type": "display_data"
    },
    {
     "name": "stdout",
     "output_type": "stream",
     "text": [
      "[ 0.   10.   17.   18.4  18.68]\n"
     ]
    }
   ],
   "source": [
    "# Questão 1\n",
    "Xz = (10 * z + 5) / ((z-1) * (z-0.2))\n",
    "teste = digital(Xz)\n",
    "display(teste.izt())\n",
    "print(teste.calcn())"
   ]
  },
  {
   "cell_type": "code",
   "execution_count": 3,
   "metadata": {},
   "outputs": [
    {
     "data": {
      "image/png": "[encoded data removed]",
      "text/latex": [
       "$$\\delta\\left[n\\right] + 4 \\delta\\left[n - 3\\right] + 3 \\delta\\left[n - 2\\right] + 2 \\delta\\left[n - 1\\right] \\;\\; \\text{for}\\: n \\geq 0$$"
      ],
      "text/plain": [
       "δ[n] + 4⋅δ[n - 3] + 3⋅δ[n - 2] + 2⋅δ[n - 1]  for n ≥ 0"
      ]
     },
     "metadata": {},
     "output_type": "display_data"
    },
    {
     "name": "stdout",
     "output_type": "stream",
     "text": [
      "[1. 2. 3. 4. 0.]\n"
     ]
    }
   ],
   "source": [
    "# Questão 2\n",
    "Xz = 1 + 2*z**-1 + 3*z**-2 + 4 *z **-3\n",
    "teste = digital(Xz)\n",
    "display(teste.izt())\n",
    "print(teste.calcn())"
   ]
  },
  {
   "cell_type": "code",
   "execution_count": 4,
   "metadata": {},
   "outputs": [
    {
     "data": {
      "image/png": "[encoded data removed]",
      "text/latex": [
       "$$- \\frac{4 \\sqrt{3} \\sin{\\left(\\frac{\\pi n}{3} \\right)}}{3} - 2 \\cos{\\left(\\frac{\\pi n}{3} \\right)} - 2 \\delta\\left[n\\right] + 4 \\;\\; \\text{for}\\: n \\geq 0$$"
      ],
      "text/plain": [
       "          ⎛π⋅n⎞                                     \n",
       "  4⋅√3⋅sin⎜───⎟                                     \n",
       "          ⎝ 3 ⎠        ⎛π⋅n⎞                        \n",
       "- ───────────── - 2⋅cos⎜───⎟ - 2⋅δ[n] + 4  for n ≥ 0\n",
       "        3              ⎝ 3 ⎠                        "
      ]
     },
     "metadata": {},
     "output_type": "display_data"
    },
    {
     "data": {
      "text/plain": [
       "array([0., 1., 3., 6., 7.])"
      ]
     },
     "execution_count": 4,
     "metadata": {},
     "output_type": "execute_result"
    }
   ],
   "source": [
    "# Questão 4\n",
    "\n",
    "Xz = (z**2 + z + 2) / ((z-1)* (z**2 -z + 1))\n",
    "Q4 = digital(Xz=Xz)\n",
    "display(Q4.izt())\n",
    "Q4.calcn()"
   ]
  },
  {
   "cell_type": "code",
   "execution_count": 5,
   "metadata": {},
   "outputs": [
    {
     "data": {
      "image/png": "[encoded data removed]",
      "text/latex": [
       "$$2^{n - 1} \\left(9 n - 2\\right) + 3 \\;\\; \\text{for}\\: n \\geq 0$$"
      ],
      "text/plain": [
       " n - 1                         \n",
       "2     ⋅(9⋅n - 2) + 3  for n ≥ 0"
      ]
     },
     "metadata": {},
     "output_type": "display_data"
    }
   ],
   "source": [
    "# Questão 5\n",
    "Xz = (2*z**3 + z) / ((z-2)**2 * (z-1))\n",
    "Q5 = digital(Xz = Xz)\n",
    "display(Q5.izt())"
   ]
  },
  {
   "cell_type": "code",
   "execution_count": 6,
   "metadata": {},
   "outputs": [
    {
     "data": {
      "image/png": "[encoded data removed]",
      "text/latex": [
       "$$2^{n} + 9 \\cdot 2^{n - 1} n + 3 \\;\\; \\text{for}\\: n \\geq 0$$"
      ],
      "text/plain": [
       " n      n - 1                 \n",
       "2  + 9⋅2     ⋅n + 3  for n ≥ 0"
      ]
     },
     "metadata": {},
     "output_type": "display_data"
    }
   ],
   "source": [
    "# Questão 6\n",
    "Xz1 = 9 / (z * (1-2*z**-1)**2)\n",
    "Xz2 = z / (z - 2)\n",
    "Xz3 = 3*z / (z - 1)\n",
    "Xz = Xz1 + Xz2 + Xz3\n",
    "teste = digital(Xz)\n",
    "display(teste.izt())"
   ]
  },
  {
   "cell_type": "code",
   "execution_count": 7,
   "metadata": {},
   "outputs": [
    {
     "data": {
      "image/png": "[encoded data removed]",
      "text/latex": [
       "$$\\frac{2^{n}}{2} - \\frac{\\delta\\left[n\\right]}{2} - \\delta\\left[n - 2\\right] - \\delta\\left[n - 1\\right] \\;\\; \\text{for}\\: n \\geq 0$$"
      ],
      "text/plain": [
       " n                                        \n",
       "2    δ[n]                                 \n",
       "── - ──── - δ[n - 2] - δ[n - 1]  for n ≥ 0\n",
       "2     2                                   "
      ]
     },
     "metadata": {},
     "output_type": "display_data"
    }
   ],
   "source": [
    "# Questão 7\n",
    "\n",
    "Xz = (z+2) / (z**2 * (z-2))\n",
    "Q7 = digital(Xz = Xz)\n",
    "display(Q7.izt())"
   ]
  },
  {
   "cell_type": "code",
   "execution_count": 8,
   "metadata": {},
   "outputs": [
    {
     "data": {
      "image/png": "[encoded data removed]",
      "text/latex": [
       "$$1 - e^{- t} \\;\\; \\text{for}\\: t \\geq 0$$"
      ],
      "text/plain": [
       "     -t           \n",
       "1 - ℯ    for t ≥ 0"
      ]
     },
     "metadata": {},
     "output_type": "display_data"
    },
    {
     "data": {
      "text/latex": [
       "$$\\frac{0.6321}{z - 0.3679}\\quad dt = 1$$"
      ],
      "text/plain": [
       "TransferFunction(array([0.63212056]), array([ 1.        , -0.36787944]), 1)"
      ]
     },
     "metadata": {},
     "output_type": "display_data"
    }
   ],
   "source": [
    "# Questão 13:\n",
    "gs = 1 / (s * (s + 1))\n",
    "gsc = tf([1], [1, 1])\n",
    "teste = digital(Gs = gs, Gsc = gsc, tau=1)\n",
    "display(teste.s2t())\n",
    "display(teste.s2z())"
   ]
  },
  {
   "cell_type": "code",
   "execution_count": 9,
   "metadata": {},
   "outputs": [
    {
     "data": {
      "image/png": "[encoded data removed]",
      "text/latex": [
       "$$2 - 2 e^{- 2 t} \\;\\; \\text{for}\\: t \\geq 0$$"
      ],
      "text/plain": [
       "       -2⋅t           \n",
       "2 - 2⋅ℯ      for t ≥ 0"
      ]
     },
     "metadata": {},
     "output_type": "display_data"
    },
    {
     "data": {
      "text/latex": [
       "$$\\frac{0.3625}{z - 0.8187}\\quad dt = 0.1$$"
      ],
      "text/plain": [
       "TransferFunction(array([0.36253849]), array([ 1.        , -0.81873075]), 0.1)"
      ]
     },
     "metadata": {},
     "output_type": "display_data"
    },
    {
     "data": {
      "text/latex": [
       "$$\\frac{0.3625}{z - 0.4562}\\quad dt = 0.1$$"
      ],
      "text/plain": [
       "TransferFunction(array([0.36253849]), array([ 1.        , -0.45619226]), 0.1)"
      ]
     },
     "metadata": {},
     "output_type": "display_data"
    },
    {
     "data": {
      "text/plain": [
       "array([0. , 0.1, 0.2, 0.3, 0.4, 0.5, 0.6, 0.7, 0.8, 0.9, 1. , 1.1, 1.2,\n",
       "       1.3, 1.4, 1.5, 1.6, 1.7, 1.8, 1.9, 2. ])"
      ]
     },
     "metadata": {},
     "output_type": "display_data"
    },
    {
     "data": {
      "text/plain": [
       "array([0.        , 0.36253849, 0.52792575, 0.60337413, 0.6377931 ,\n",
       "       0.65349477, 0.66065775, 0.66392545, 0.66541614, 0.66609619,\n",
       "       0.66640642, 0.66654794, 0.66661251, 0.66664196, 0.6666554 ,\n",
       "       0.66666152, 0.66666432, 0.6666656 , 0.66666618, 0.66666644,\n",
       "       0.66666657])"
      ]
     },
     "metadata": {},
     "output_type": "display_data"
    }
   ],
   "source": [
    "# questão 14\n",
    "\n",
    "gss = 4 / (s * (s+2))\n",
    "gsc = tf(4, [1, 2])\n",
    "tau = .1\n",
    "Q14 = digital(Gs=gss, Gsc=gsc, tau = .1)\n",
    "display(Q14.s2t())\n",
    "display(Q14.s2z())\n",
    "fz, time, mag = Q14.Fz(20)\n",
    "display(fz, time, mag)"
   ]
  },
  {
   "cell_type": "code",
   "execution_count": 11,
   "metadata": {},
   "outputs": [
    {
     "data": {
      "text/latex": [
       "$$\\frac{1.813}{z - 0.8187}\\quad dt = 2$$"
      ],
      "text/plain": [
       "TransferFunction(array([1.81269247]), array([ 1.        , -0.81873075]), 2)"
      ]
     },
     "metadata": {},
     "output_type": "display_data"
    },
    {
     "data": {
      "image/png": "[encoded data removed]",
      "text/latex": [
       "$$10 - 10 e^{- \\frac{t}{10}} \\;\\; \\text{for}\\: t \\geq 0$$"
      ],
      "text/plain": [
       "         -t            \n",
       "         ───           \n",
       "          10           \n",
       "10 - 10⋅ℯ     for t ≥ 0"
      ]
     },
     "metadata": {},
     "output_type": "display_data"
    },
    {
     "data": {
      "image/png": "[encoded data removed]",
      "text/plain": [
       "<Figure size 432x288 with 1 Axes>"
      ]
     },
     "metadata": {},
     "output_type": "display_data"
    },
    {
     "data": {
      "text/latex": [
       "$$\\frac{1.813}{z - 0.7281}\\quad dt = 2$$"
      ],
      "text/plain": [
       "TransferFunction(array([1.81269247]), array([ 1.        , -0.72809613]), 2)"
      ]
     },
     "metadata": {},
     "output_type": "display_data"
    },
    {
     "data": {
      "text/plain": [
       "array([0.        , 1.81269247, 3.13250684, 4.09345858, 4.79312381,\n",
       "       5.30254737, 5.67345668, 5.94351432, 6.14014224, 6.28330627,\n",
       "       6.38754345, 6.46343813, 6.51869676, 6.55893035, 6.58822427])"
      ]
     },
     "metadata": {},
     "output_type": "display_data"
    }
   ],
   "source": [
    "# questão 16\n",
    "\n",
    "gss = 10 / (s + 10*s**2)\n",
    "gsc = tf([10], [10, 1])\n",
    "tau = 2\n",
    "Q16 = digital(Gs=gss, Gsc=gsc, tau = 2)\n",
    "display(Q16.s2z())\n",
    "display(Q16.s2t())\n",
    "fz, time, mag = Q16.Fz(14, fb = 0.05, plot=True)\n",
    "display(fz, mag)\n"
   ]
  }
 ],
 "metadata": {
  "interpreter": {
   "hash": "b3ba2566441a7c06988d0923437866b63cedc61552a5af99d1f4fb67d367b25f"
  },
  "kernelspec": {
   "display_name": "Python 3.8.8 64-bit ('base': conda)",
   "name": "python3"
  },
  "language_info": {
   "codemirror_mode": {
    "name": "ipython",
    "version": 3
   },
   "file_extension": ".py",
   "mimetype": "text/x-python",
   "name": "python",
   "nbconvert_exporter": "python",
   "pygments_lexer": "ipython3",
   "version": "3.8.8"
  },
  "orig_nbformat": 4
 },
 "nbformat": 4,
 "nbformat_minor": 2
}
