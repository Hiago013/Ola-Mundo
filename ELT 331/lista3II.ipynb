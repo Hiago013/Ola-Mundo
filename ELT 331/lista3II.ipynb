{
 "cells": [
  {
   "cell_type": "code",
   "execution_count": 1,
   "metadata": {},
   "outputs": [],
   "source": [
    "from controleII import digital\n",
    "from lcapy.discretetime import z, n\n",
    "from lcapy import s,exp\n",
    "from control import tf"
   ]
  },
  {
   "cell_type": "code",
   "execution_count": 2,
   "metadata": {},
   "outputs": [
    {
     "data": {
      "image/png": "[encoded data removed]",
      "text/latex": [
       "$$25 \\delta\\left[n\\right] + \\frac{75}{4} - \\frac{175 \\cdot 5^{- n}}{4} \\;\\; \\text{for}\\: n \\geq 0$$"
      ],
      "text/plain": [
       "                    -n           \n",
       "          75   175⋅5             \n",
       "25⋅δ[n] + ── - ───────  for n ≥ 0\n",
       "          4       4              "
      ]
     },
     "metadata": {},
     "output_type": "display_data"
    },
    {
     "name": "stdout",
     "output_type": "stream",
     "text": [
      "[ 0.   10.   17.   18.4  18.68]\n"
     ]
    }
   ],
   "source": [
    "# Questão 1\n",
    "Xz = (10 * z + 5) / ((z-1) * (z-0.2))\n",
    "teste = digital(Xz)\n",
    "display(teste.izt())\n",
    "print(teste.calcn())"
   ]
  },
  {
   "cell_type": "code",
   "execution_count": null,
   "metadata": {},
   "outputs": [],
   "source": [
    "# Questão 2\n",
    "Xz = 1 + 2*z**-1 + 3*z**-2 + 4 *z **-3\n",
    "teste = digital(Xz)\n",
    "display(teste.izt())\n",
    "print(teste.calcn())"
   ]
  },
  {
   "cell_type": "code",
   "execution_count": null,
   "metadata": {},
   "outputs": [],
   "source": [
    "# Questão 4\n",
    "\n",
    "Xz = (z**2 + z + 2) / ((z-1)* (z**2 -z + 1))\n",
    "Q4 = digital(Xz=Xz)\n",
    "display(Q4.izt())\n",
    "Q4.calcn()"
   ]
  },
  {
   "cell_type": "code",
   "execution_count": null,
   "metadata": {},
   "outputs": [],
   "source": [
    "# Questão 5\n",
    "Xz = (2*z**3 + z) / ((z-2)**2 * (z-1))\n",
    "Q5 = digital(Xz = Xz)\n",
    "display(Q5.izt())"
   ]
  },
  {
   "cell_type": "code",
   "execution_count": null,
   "metadata": {},
   "outputs": [],
   "source": [
    "# Questão 6\n",
    "Xz1 = 9 / (z * (1-2*z**-1)**2)\n",
    "Xz2 = z / (z - 2)\n",
    "Xz3 = 3*z / (z - 1)\n",
    "Xz = Xz1 + Xz2 + Xz3\n",
    "teste = digital(Xz)\n",
    "display(teste.izt())"
   ]
  },
  {
   "cell_type": "code",
   "execution_count": null,
   "metadata": {},
   "outputs": [],
   "source": [
    "# Questão 7\n",
    "\n",
    "Xz = (z+2) / (z**2 * (z-2))\n",
    "Q7 = digital(Xz = Xz)\n",
    "display(Q7.izt())"
   ]
  },
  {
   "cell_type": "code",
   "execution_count": null,
   "metadata": {},
   "outputs": [],
   "source": [
    "# Questão 13:\n",
    "gs = 1 / (s * (s + 1))\n",
    "gsc = tf([1], [1, 1])\n",
    "teste = digital(Gs = gs, Gsc = gsc, tau=1)\n",
    "display(teste.s2t())\n",
    "display(teste.s2z())"
   ]
  },
  {
   "cell_type": "code",
   "execution_count": 3,
   "metadata": {},
   "outputs": [
    {
     "data": {
      "image/png": "[encoded data removed]",
      "text/latex": [
       "$$2 - 2 e^{- 2 t} \\;\\; \\text{for}\\: t \\geq 0$$"
      ],
      "text/plain": [
       "       -2⋅t           \n",
       "2 - 2⋅ℯ      for t ≥ 0"
      ]
     },
     "metadata": {},
     "output_type": "display_data"
    },
    {
     "data": {
      "text/latex": [
       "$$\\frac{0.3625}{z - 0.8187}\\quad dt = 0.1$$"
      ],
      "text/plain": [
       "TransferFunction(array([0.36253849]), array([ 1.        , -0.81873075]), 0.1)"
      ]
     },
     "metadata": {},
     "output_type": "display_data"
    },
    {
     "data": {
      "text/latex": [
       "$$\\frac{0.3625}{z - 0.4562}\\quad dt = 0.1$$"
      ],
      "text/plain": [
       "TransferFunction(array([0.36253849]), array([ 1.        , -0.45619226]), 0.1)"
      ]
     },
     "metadata": {},
     "output_type": "display_data"
    },
    {
     "data": {
      "text/plain": [
       "array([0. , 0.1, 0.2, 0.3, 0.4, 0.5, 0.6, 0.7, 0.8, 0.9, 1. , 1.1, 1.2,\n",
       "       1.3, 1.4, 1.5, 1.6, 1.7, 1.8, 1.9, 2. ])"
      ]
     },
     "metadata": {},
     "output_type": "display_data"
    },
    {
     "data": {
      "text/plain": [
       "array([0.        , 0.36253849, 0.52792575, 0.60337413, 0.6377931 ,\n",
       "       0.65349477, 0.66065775, 0.66392545, 0.66541614, 0.66609619,\n",
       "       0.66640642, 0.66654794, 0.66661251, 0.66664196, 0.6666554 ,\n",
       "       0.66666152, 0.66666432, 0.6666656 , 0.66666618, 0.66666644,\n",
       "       0.66666657])"
      ]
     },
     "metadata": {},
     "output_type": "display_data"
    }
   ],
   "source": [
    "# questão 14\n",
    "\n",
    "gss = 4 / (s * (s+2))\n",
    "gsc = tf(4, [1, 2])\n",
    "tau = .1\n",
    "Q14 = digital(Gs=gss, Gsc=gsc, tau = .1)\n",
    "display(Q14.s2t())\n",
    "display(Q14.s2z())\n",
    "fz, time, mag = Q14.Fz(20)\n",
    "display(fz, time, mag)"
   ]
  },
  {
   "cell_type": "code",
   "execution_count": null,
   "metadata": {},
   "outputs": [],
   "source": [
    "# questão 16\n",
    "\n",
    "gss = 10 / (s + 10*s**2)\n",
    "gsc = tf([10], [10, 1])\n",
    "tau = 2\n",
    "Q16 = digital(Gs=gss, Gsc=gsc, tau = 2)\n",
    "display(Q16.s2z())\n",
    "display(Q16.s2t())\n",
    "fz, time, mag = Q16.Fz(14, fb = 0.05, plot=True)\n",
    "display(fz, mag)\n"
   ]
  },
  {
   "cell_type": "code",
   "execution_count": 24,
   "metadata": {},
   "outputs": [
    {
     "data": {
      "text/latex": [
       "$$\\frac{0.131 z - 0.2697}{z^2 - 2.01 z + 1}\\quad dt = 0.1$$"
      ],
      "text/plain": [
       "TransferFunction(array([ 0.13097573, -0.26969127]), array([ 1.        , -2.01000834,  1.        ]), 0.1)"
      ]
     },
     "metadata": {},
     "output_type": "display_data"
    },
    {
     "data": {
      "image/png": "[encoded data removed]",
      "text/plain": [
       "<Figure size 576x360 with 1 Axes>"
      ]
     },
     "metadata": {},
     "output_type": "display_data"
    },
    {
     "data": {
      "text/latex": [
       "$$\\frac{0.131 z - 0.2697}{z^2 - 1.879 z + 0.7303}\\quad dt = 0.1$$"
      ],
      "text/plain": [
       "TransferFunction(array([ 0.13097573, -0.26969127]), array([ 1.        , -1.87903261,  0.73030873]), 0.1)"
      ]
     },
     "metadata": {},
     "output_type": "display_data"
    }
   ],
   "source": [
    "g1s = 2 * (s - 6.93) / (s - 1) * (1 / (s * (s+1)))\n",
    "gsc =  tf(1, [1, 1]) * 2* tf([1, -6.93], [1, -1])\n",
    "tau = .1\n",
    "Q17 = digital(Gs=g1s, Gsc=gsc, tau = tau)\n",
    "display(Q17.s2z())\n",
    "fz, time, mag = Q17.Fz(30, plot=True, save=True, title='Resposta ao degrau unitário com o controlador')\n",
    "display(fz)\n",
    "\n"
   ]
  },
  {
   "cell_type": "code",
   "execution_count": 22,
   "metadata": {},
   "outputs": [
    {
     "data": {
      "image/png": "[encoded data removed]",
      "text/latex": [
       "$$- \\frac{0.308529658510277}{z - 0.549146089763913} + \\frac{0.93266276247403}{z - 1.0} - \\frac{0.493157103963753}{z - 1.32988291023609}$$"
      ],
      "text/plain": [
       "    0.308529658510277     0.93266276247403    0.493157103963753  \n",
       "- ───────────────────── + ──────────────── - ────────────────────\n",
       "  z - 0.549146089763913       z - 1.0        z - 1.32988291023609"
      ]
     },
     "execution_count": 22,
     "metadata": {},
     "output_type": "execute_result"
    }
   ],
   "source": [
    "Xz = (0.130976*z - 0.26969) / (z**2 - 1.879029*z + 0.7303) * (z / (z-1))\n",
    "C = N(Xz.partfrac())\n",
    "C"
   ]
  },
  {
   "cell_type": "code",
   "execution_count": 10,
   "metadata": {},
   "outputs": [
    {
     "data": {
      "image/png": "[encoded data removed]",
      "text/latex": [
       "$\\displaystyle \\left[ \\right]$"
      ],
      "text/plain": [
       "[]"
      ]
     },
     "execution_count": 10,
     "metadata": {},
     "output_type": "execute_result"
    }
   ],
   "source": [
    "from sympy import solve, var, N\n",
    "var('u')\n",
    "a =(u**2 - 2.01*u + 1) * u/(u-1)\n",
    "solve(u, a)"
   ]
  },
  {
   "cell_type": "code",
   "execution_count": 56,
   "metadata": {},
   "outputs": [
    {
     "data": {
      "image/png": "[encoded data removed]",
      "text/latex": [
       "$\\displaystyle e z^{2} - e z + 24 z - 49 + 25 e$"
      ],
      "text/plain": [
       "   2                         \n",
       "ℯ⋅z  - ℯ⋅z + 24⋅z - 49 + 25⋅ℯ"
      ]
     },
     "execution_count": 56,
     "metadata": {},
     "output_type": "execute_result"
    }
   ],
   "source": [
    "from sympy import var\n",
    "from sympy import solve\n",
    "\n",
    "k = var('k')\n",
    "W = var('W')\n",
    "t = (2 + W) / (2 - W)\n",
    "\n",
    "Xz = k/(z-1) - ((1-exp(-1))/(z- exp(-1)))*k\n",
    "#Xz = Xz.subs(z, t)\n",
    "F = Xz/(Xz + 1)\n",
    "G = F.simplify().as_numer_denom()[1]\n",
    "G.subs(k, 25)"
   ]
  }
 ],
 "metadata": {
  "interpreter": {
   "hash": "b3ba2566441a7c06988d0923437866b63cedc61552a5af99d1f4fb67d367b25f"
  },
  "kernelspec": {
   "display_name": "Python 3.8.8 64-bit ('base': conda)",
   "name": "python3"
  },
  "language_info": {
   "codemirror_mode": {
    "name": "ipython",
    "version": 3
   },
   "file_extension": ".py",
   "mimetype": "text/x-python",
   "name": "python",
   "nbconvert_exporter": "python",
   "pygments_lexer": "ipython3",
   "version": "3.8.8"
  },
  "orig_nbformat": 4
 },
 "nbformat": 4,
 "nbformat_minor": 2
}
