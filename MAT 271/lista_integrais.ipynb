{
 "cells": [
  {
   "cell_type": "code",
   "execution_count": 1,
   "source": [
    "from Integrais import Integrais as it\r\n",
    "from sympy import var, Lambda, cos, sin, tan, exp, log, ln, sqrt\r\n",
    "x = var('x')"
   ],
   "outputs": [],
   "metadata": {}
  },
  {
   "cell_type": "code",
   "execution_count": 2,
   "source": [
    "f = Lambda(x, cos(x)/(x+2))\r\n",
    "a = 1\r\n",
    "b = 2\r\n",
    "display(f)\r\n",
    "\r\n",
    "Q1 = it(f, a, b)\r\n",
    "Q1_int13 = Q1.simpson1_3(n = 6, dp=6)\r\n",
    "Q1_int38 = Q1.simpson3_8(n=6, dp=6)"
   ],
   "outputs": [
    {
     "output_type": "display_data",
     "data": {
      "text/latex": [
       "$\\displaystyle \\left( x \\mapsto \\frac{\\cos{\\left(x \\right)}}{x + 2} \\right)$"
      ],
      "text/plain": [
       "Lambda(x, cos(x)/(x + 2))"
      ]
     },
     "metadata": {}
    },
    {
     "output_type": "stream",
     "name": "stdout",
     "text": [
      "*************** Regra de 1/3 de Simpson ***************\n",
      "Portanto, o valor da integral é:\n",
      "0.026207, com |E| < 1e-06\n",
      "\n",
      "*************** Regra de 3/8 de Simpson ***************\n",
      "Portanto, o valor da integral é:\n",
      "0.026206, com |E| < 2e-06\n",
      "\n"
     ]
    }
   ],
   "metadata": {}
  },
  {
   "cell_type": "code",
   "execution_count": 3,
   "source": [
    "f = Lambda(x, sqrt(1 + x**2))\r\n",
    "a = 0\r\n",
    "b = 2\r\n",
    "display(f)\r\n",
    "\r\n",
    "\r\n",
    "Q2 = it(f, a, b)\r\n",
    "Q2_int13 = Q2.trapezio(n = 4, dp=6)\r\n"
   ],
   "outputs": [
    {
     "output_type": "display_data",
     "data": {
      "text/latex": [
       "$\\displaystyle \\left( x \\mapsto \\sqrt{x^{2} + 1} \\right)$"
      ],
      "text/plain": [
       "Lambda(x, sqrt(x**2 + 1))"
      ]
     },
     "metadata": {}
    },
    {
     "output_type": "stream",
     "name": "stdout",
     "text": [
      "*************** Regra do Trapézio ***************\n",
      "Portanto a integral é:\n",
      "2.976529 com |E| < 0.041667\n",
      "\n",
      "********************  AVISO  ********************\n",
      "Para garantia de um |E| < 0.01, utilize n = 9.0\n",
      "\n"
     ]
    }
   ],
   "metadata": {}
  },
  {
   "cell_type": "code",
   "execution_count": 4,
   "source": [
    "f = Lambda(x, 4/(1+x**2))\r\n",
    "a = 0\r\n",
    "b = 1\r\n",
    "display(f)\r\n",
    "\r\n",
    "\r\n",
    "Q3 = it(f, a, b)\r\n",
    "\r\n",
    "Q3_int13 = Q3.simpson1_3(n = 10, dp=6)"
   ],
   "outputs": [
    {
     "output_type": "display_data",
     "data": {
      "text/latex": [
       "$\\displaystyle \\left( x \\mapsto \\frac{4}{x^{2} + 1} \\right)$"
      ],
      "text/plain": [
       "Lambda(x, 4/(x**2 + 1))"
      ]
     },
     "metadata": {}
    },
    {
     "output_type": "stream",
     "name": "stdout",
     "text": [
      "*************** Regra de 1/3 de Simpson ***************\n",
      "Portanto, o valor da integral é:\n",
      "3.274926, com |E| < 5.3e-05\n",
      "\n"
     ]
    }
   ],
   "metadata": {}
  },
  {
   "cell_type": "code",
   "execution_count": 5,
   "source": [
    "f = Lambda(x, ln(x**3 + sqrt(exp(x)+1)))\r\n",
    "a = 1\r\n",
    "b = 4\r\n",
    "display(f)\r\n",
    "\r\n",
    "\r\n",
    "Q4 = it(f, a, b)\r\n",
    "\r\n",
    "Q4_int13 = Q4.simpson3_8(n = 6, dp=6)"
   ],
   "outputs": [
    {
     "output_type": "display_data",
     "data": {
      "text/latex": [
       "$\\displaystyle \\left( x \\mapsto \\log{\\left(x^{3} + \\sqrt{e^{x} + 1} \\right)} \\right)$"
      ],
      "text/plain": [
       "Lambda(x, log(x**3 + sqrt(exp(x) + 1)))"
      ]
     },
     "metadata": {}
    },
    {
     "output_type": "stream",
     "name": "stdout",
     "text": [
      "*************** Regra de 3/8 de Simpson ***************\n",
      "Portanto, o valor da integral é:\n",
      "8.563331, com |E| < 0.007543\n",
      "\n"
     ]
    }
   ],
   "metadata": {}
  },
  {
   "cell_type": "code",
   "execution_count": 6,
   "source": [
    "# QUESTÃO 5\r\n",
    "def calc13(y, h):\r\n",
    "    k = 1\r\n",
    "    total = y[0] + y[-1]\r\n",
    "    while k < len(y)-1:\r\n",
    "        if k % 2 == 0:\r\n",
    "            total += 2 * y[k]\r\n",
    "        else:\r\n",
    "            total += 4 * y[k]\r\n",
    "        k += 1\r\n",
    "        total *= h/3\r\n",
    "    return total\r\n",
    "\r\n",
    "def calc38(y, h):\r\n",
    "    k = 1\r\n",
    "    total = y[0] + y[-1]\r\n",
    "    while k < len(y)-1:\r\n",
    "        if k % 3 == 0:\r\n",
    "            total += 2 * y[k]\r\n",
    "        else:\r\n",
    "            total += 3 * y[k]\r\n",
    "        k += 1\r\n",
    "    total *= 3/8 *h\r\n",
    "    return total\r\n",
    "\r\n",
    "\r\n",
    "\r\n",
    "x = [0, .2, .4, .6, .8, 1]\r\n",
    "y = [1, 1.197, 1.374, 1.503, 1.552, 1.468]\r\n",
    "h = .2\r\n",
    "\r\n",
    "y1 = y[:4] # 3 primeiros 3/8 de simpson\r\n",
    "\r\n",
    "y2 = y[3:] # 2 ultimos 1/3 de simpson\r\n",
    "\r\n",
    "print(f'{(calc38(y1, h) + calc13(y2,h)):.6f}')\r\n",
    "\r\n",
    "y3 = y[:3] # dois primeiros 1/3 de simpson\r\n",
    "y4 = y[2:] # 3 ultimos 3/8 de simpson\r\n",
    "print(f'{(calc38(y4, h) + calc13(y3,h)):.6f}')\r\n",
    "\r\n",
    "\r\n",
    "\r\n",
    "\r\n"
   ],
   "outputs": [
    {
     "output_type": "stream",
     "name": "stdout",
     "text": [
      "1.378133\n",
      "1.377992\n"
     ]
    }
   ],
   "metadata": {}
  },
  {
   "cell_type": "code",
   "execution_count": 7,
   "source": [
    "# Questão 6\r\n",
    "x = [0, 10, 20, 30, 50]\r\n",
    "y1 = [50.8, 86.2, 136, 72.8, 51]\r\n",
    "y2 = [113.6, 144.5, 185, 171.2, 95.3]\r\n",
    "\r\n"
   ],
   "outputs": [],
   "metadata": {}
  }
 ],
 "metadata": {
  "orig_nbformat": 4,
  "language_info": {
   "name": "python",
   "version": "3.8.8",
   "mimetype": "text/x-python",
   "codemirror_mode": {
    "name": "ipython",
    "version": 3
   },
   "pygments_lexer": "ipython3",
   "nbconvert_exporter": "python",
   "file_extension": ".py"
  },
  "kernelspec": {
   "name": "python3",
   "display_name": "Python 3.8.8 64-bit ('base': conda)"
  },
  "interpreter": {
   "hash": "b3ba2566441a7c06988d0923437866b63cedc61552a5af99d1f4fb67d367b25f"
  }
 },
 "nbformat": 4,
 "nbformat_minor": 2
}