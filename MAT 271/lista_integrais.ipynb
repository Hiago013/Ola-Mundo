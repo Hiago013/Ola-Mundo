{
 "cells": [
  {
   "cell_type": "code",
   "execution_count": 1,
   "metadata": {},
   "outputs": [],
   "source": [
    "from Integrais import Integrais as it\n",
    "from sympy import var, Lambda, cos, sin, tan, exp, log, ln, sqrt, solve\n",
    "x = var('x')"
   ]
  },
  {
   "cell_type": "code",
   "execution_count": 2,
   "metadata": {},
   "outputs": [
    {
     "data": {
      "text/latex": [
       "$\\displaystyle \\left( x \\mapsto \\frac{\\cos{\\left(x \\right)}}{x + 2} \\right)$"
      ],
      "text/plain": [
       "Lambda(x, cos(x)/(x + 2))"
      ]
     },
     "metadata": {},
     "output_type": "display_data"
    },
    {
     "name": "stdout",
     "output_type": "stream",
     "text": [
      "*************** Regra do Trapézio ***************\n",
      "Portanto a integral é:\n",
      "0.02653 com |E| < 0.000474\n",
      "\n",
      "*************** Regra de 1/3 de Simpson ***************\n",
      "Portanto, o valor da integral é:\n",
      "0.026207, com |E| < 1e-06\n",
      "\n",
      "*************** Regra de 3/8 de Simpson ***************\n",
      "Portanto, o valor da integral é:\n",
      "0.026206, com |E| < 2e-06\n",
      "\n"
     ]
    }
   ],
   "source": [
    "# Questão 1\n",
    "f = Lambda(x, cos(x)/(x+2))\n",
    "a = 1\n",
    "b = 2\n",
    "display(f)\n",
    "\n",
    "Q1 = it(f, a, b)\n",
    "Q1.trapezio(n=6, dp=6)\n",
    "Q1_int13 = Q1.simpson1_3(n = 6, dp=6)\n",
    "Q1_int38 = Q1.simpson3_8(n=6, dp=6)"
   ]
  },
  {
   "cell_type": "code",
   "execution_count": 3,
   "metadata": {},
   "outputs": [
    {
     "data": {
      "text/latex": [
       "$\\displaystyle \\left( x \\mapsto \\sqrt{x^{2} + 1} \\right)$"
      ],
      "text/plain": [
       "Lambda(x, sqrt(x**2 + 1))"
      ]
     },
     "metadata": {},
     "output_type": "display_data"
    },
    {
     "name": "stdout",
     "output_type": "stream",
     "text": [
      "*************** Regra do Trapézio ***************\n",
      "Portanto a integral é:\n",
      "2.976529 com |E| < 0.041667\n",
      "\n",
      "********************  AVISO  ********************\n",
      "Para garantia de um |E| < 0.01, utilize n = 9.0\n",
      "\n"
     ]
    }
   ],
   "source": [
    "# Questão 2\n",
    "x = var('x')\n",
    "f = Lambda(x, sqrt(1 + x**2))\n",
    "a = 0\n",
    "b = 2\n",
    "display(f)\n",
    "\n",
    "\n",
    "Q2 = it(f, a, b)\n",
    "Q2_int13 = Q2.trapezio(n = 4, dp=6)\n"
   ]
  },
  {
   "cell_type": "code",
   "execution_count": 4,
   "metadata": {},
   "outputs": [
    {
     "data": {
      "text/latex": [
       "$\\displaystyle \\left( x \\mapsto \\frac{4}{x^{2} + 1} \\right)$"
      ],
      "text/plain": [
       "Lambda(x, 4/(x**2 + 1))"
      ]
     },
     "metadata": {},
     "output_type": "display_data"
    },
    {
     "name": "stdout",
     "output_type": "stream",
     "text": [
      "*************** Regra de 1/3 de Simpson ***************\n",
      "Portanto, o valor da integral é:\n",
      "3.274926, com |E| < 5.3e-05\n",
      "\n"
     ]
    }
   ],
   "source": [
    "# Questão 3\n",
    "x = var('x')\n",
    "f = Lambda(x, 4/(1+x**2))\n",
    "a = 0\n",
    "b = 1\n",
    "display(f)\n",
    "\n",
    "\n",
    "Q3 = it(f, a, b)\n",
    "\n",
    "Q3_int13 = Q3.simpson1_3(n = 10, dp=6)"
   ]
  },
  {
   "cell_type": "code",
   "execution_count": 5,
   "metadata": {},
   "outputs": [
    {
     "data": {
      "text/latex": [
       "$\\displaystyle \\left( x \\mapsto \\log{\\left(x^{3} + \\sqrt{e^{x} + 1} \\right)} \\right)$"
      ],
      "text/plain": [
       "Lambda(x, log(x**3 + sqrt(exp(x) + 1)))"
      ]
     },
     "metadata": {},
     "output_type": "display_data"
    },
    {
     "name": "stdout",
     "output_type": "stream",
     "text": [
      "*************** Regra de 3/8 de Simpson ***************\n",
      "Portanto, o valor da integral é:\n",
      "8.563331, com |E| < 0.007543\n",
      "\n"
     ]
    }
   ],
   "source": [
    "# Questão 4\n",
    "x = var('x')\n",
    "f = Lambda(x, ln(x**3 + sqrt(exp(x)+1)))\n",
    "a = 1\n",
    "b = 4\n",
    "display(f)\n",
    "\n",
    "\n",
    "Q4 = it(f, a, b)\n",
    "\n",
    "Q4_int13 = Q4.simpson3_8(n = 6, dp=6)"
   ]
  },
  {
   "cell_type": "code",
   "execution_count": 6,
   "metadata": {},
   "outputs": [
    {
     "name": "stdout",
     "output_type": "stream",
     "text": [
      "1.378133\n",
      "1.377992\n"
     ]
    }
   ],
   "source": [
    "# QUESTÃO 5\n",
    "x = [0, .2, .4, .6, .8, 1]\n",
    "y = [1, 1.197, 1.374, 1.503, 1.552, 1.468]\n",
    "\n",
    "y1 = y[:4] # 3 primeiros 3/8 de simpson\n",
    "y2 = y[3:] # 2 ultimos 1/3 de simpson\n",
    "\n",
    "v1 = it(0, 0, 0, pts=(x, y1))\n",
    "v2 = it(0, 0, 0, pts=(x, y2))\n",
    "\n",
    "\n",
    "print(f'{(v1.num_38(6) + v2.num_13(6))}')\n",
    "\n",
    "y3 = y[:3] # dois primeiros 1/3 de simpson\n",
    "y4 = y[2:] # 3 ultimos 3/8 de simpson\n",
    "\n",
    "v3 = it(0, 0, 0, pts=(x, y3))\n",
    "v4 = it(0, 0, 0, pts=(x, y4))\n",
    "\n",
    "print(f'{(v3.num_13(6) + v4.num_38(6)):.6f}')"
   ]
  },
  {
   "cell_type": "code",
   "execution_count": 7,
   "metadata": {},
   "outputs": [
    {
     "data": {
      "text/plain": [
       "3238.625"
      ]
     },
     "execution_count": 7,
     "metadata": {},
     "output_type": "execute_result"
    }
   ],
   "source": [
    "# Questão 6\n",
    "from numpy import array\n",
    "x = [0, 10, 20, 30, 50]\n",
    "y1 = [50.8, 86.2, 136, 72.8, 51]\n",
    "y2 = [113.6, 144.5, 185, 171.2, 95.3]\n",
    "\n",
    "y = array(y2) - array(y1)\n",
    "\n",
    "v1 = it(0, 0, 0, pts=(x[:4], y[:4])) # tres primeiros sub intervalos\n",
    "v2 = it(0, 0, 0, pts=(x[3:], y[3:])) # ultimo sub intervalo\n",
    "v1.num_38() + v2.num_trapezio()"
   ]
  },
  {
   "cell_type": "code",
   "execution_count": 8,
   "metadata": {},
   "outputs": [
    {
     "data": {
      "text/latex": [
       "$\\displaystyle \\left( x \\mapsto 7 x + e^{- 3 x} \\right)$"
      ],
      "text/plain": [
       "Lambda(x, 7*x + exp(-3*x))"
      ]
     },
     "metadata": {},
     "output_type": "display_data"
    },
    {
     "name": "stdout",
     "output_type": "stream",
     "text": [
      "*************** Regra de 1/3 de Simpson ***************\n",
      "Portanto, o valor da integral é:\n",
      "1.8861298, com |E| < 2e-05\n",
      "\n"
     ]
    },
    {
     "data": {
      "text/plain": [
       "1.8861298"
      ]
     },
     "execution_count": 8,
     "metadata": {},
     "output_type": "execute_result"
    }
   ],
   "source": [
    "# Questão 7\n",
    "x = var('x')\n",
    "a = .1\n",
    "b = .7\n",
    "f = Lambda(x, exp(-3*x)+ 7 * x)\n",
    "display(f)\n",
    "\n",
    "\n",
    "Q7 = it(f, a, b)\n",
    "Q7.simpson1_3(6, dp=7) # para h = .1 então n = 6"
   ]
  },
  {
   "cell_type": "code",
   "execution_count": 9,
   "metadata": {},
   "outputs": [
    {
     "data": {
      "text/latex": [
       "$\\displaystyle \\left( x \\mapsto - 2 x + \\log{\\left(x + 8 \\right)} \\right)$"
      ],
      "text/plain": [
       "Lambda(x, -2*x + log(x + 8))"
      ]
     },
     "metadata": {},
     "output_type": "display_data"
    },
    {
     "name": "stdout",
     "output_type": "stream",
     "text": [
      "*************** Regra do Trapézio ***************\n",
      "Portanto a integral é:\n",
      "-19.0262 com |E| < 0.0145\n",
      "\n",
      "********************  AVISO  ********************\n",
      "Para garantia de um |E| < 1e-06, utilize n = 241.0\n",
      "\n",
      "*************** Regra de 1/3 de Simpson ***************\n",
      "Portanto, o valor da integral é:\n",
      "-19.0161, com |E| < 0.0003\n",
      "\n",
      "********************  AVISO  ********************\n",
      "Para garantia de um |E| < 1e-06, utilize n = 8.0\n",
      "\n",
      "*************** Regra de 3/8 de Simpson ***************\n",
      "Portanto, o valor da integral é:\n",
      "-19.016, com |E| < 0.0001\n",
      "\n",
      "********************  AVISO  ********************\n",
      "Para garantia de um |E| < 1e-06, utilize n = 12.0\n",
      "\n"
     ]
    },
    {
     "data": {
      "text/plain": [
       "-19.016"
      ]
     },
     "execution_count": 9,
     "metadata": {},
     "output_type": "execute_result"
    }
   ],
   "source": [
    "# Questão 8\n",
    "x = var('x')\n",
    "a = 1.6\n",
    "b = 5.6\n",
    "f = Lambda(x, ln(x+8)-2*x)\n",
    "display(f)\n",
    "\n",
    "Q8 = it(f, a, b)\n",
    "Q8.trapezio(n = 2, erro=10**-6)\n",
    "Q8.simpson1_3(n = 2, erro=10**-6)\n",
    "Q8.simpson3_8(n = 3, erro=10**-6)\n"
   ]
  },
  {
   "cell_type": "code",
   "execution_count": 10,
   "metadata": {},
   "outputs": [
    {
     "data": {
      "text/latex": [
       "$\\displaystyle \\left( x \\mapsto - \\frac{1500 x}{2 x + 5} + 3000 \\right)$"
      ],
      "text/plain": [
       "Lambda(x, -1500*x/(2*x + 5) + 3000)"
      ]
     },
     "metadata": {},
     "output_type": "display_data"
    },
    {
     "name": "stdout",
     "output_type": "stream",
     "text": [
      "*************** Regra de 3/8 de Simpson ***************\n",
      "Portanto, o valor da integral é:\n",
      "2626.2576, com |E| < 0.0\n",
      "\n"
     ]
    },
    {
     "data": {
      "text/plain": [
       "2626.2576"
      ]
     },
     "execution_count": 10,
     "metadata": {},
     "output_type": "execute_result"
    }
   ],
   "source": [
    "# Questão 9\n",
    "f = Lambda(x, 1500 * (2 - x / (2*x +5)))\n",
    "a = 2\n",
    "b = 3\n",
    "display(f)\n",
    "\n",
    "Q9 = it(f, a, b)\n",
    "Q9.simpson3_8(n=12)"
   ]
  },
  {
   "cell_type": "code",
   "execution_count": 11,
   "metadata": {},
   "outputs": [
    {
     "data": {
      "text/latex": [
       "$\\displaystyle \\left( \\left( x, \\  y\\right) \\mapsto e^{x + y} \\right)$"
      ],
      "text/plain": [
       "Lambda((x, y), exp(x + y))"
      ]
     },
     "metadata": {},
     "output_type": "display_data"
    },
    {
     "name": "stdout",
     "output_type": "stream",
     "text": [
      "*************** Regra do Trapézio -- Integral Dupla ***************\n"
     ]
    },
    {
     "data": {
      "text/latex": [
       "$\\displaystyle 85.2910248837216 e^{x} + 0.5 e^{x + 5}$"
      ],
      "text/plain": [
       "85.2910248837216*exp(x) + 0.5*exp(x + 5)"
      ]
     },
     "metadata": {},
     "output_type": "display_data"
    },
    {
     "name": "stdout",
     "output_type": "stream",
     "text": [
      "*************** Regra do Trapézio ***************\n",
      "Portanto a integral é:\n",
      "274.9748 com |E| < 1.4452\n",
      "\n",
      "********************  AVISO  ********************\n",
      "Para garantia de um |E| < 0.01, utilize n = 61.0\n",
      "\n"
     ]
    },
    {
     "data": {
      "text/plain": [
       "274.9748"
      ]
     },
     "execution_count": 11,
     "metadata": {},
     "output_type": "execute_result"
    }
   ],
   "source": [
    "# Questão 10\n",
    "x = var('x')\n",
    "y = var('y')\n",
    "a1 = 0\n",
    "b1 = 5\n",
    "a2 = 0\n",
    "b2 = 1\n",
    "\n",
    "n = 5\n",
    "\n",
    "f = Lambda((x,y), exp(x + y))\n",
    "\n",
    "display(f)\n",
    "\n",
    "ex1 = it(f, 0, 5)\n",
    "\n",
    "f1 = ex1.trapezio(n = n, dupla = True)\n",
    "\n",
    "ex2 = it(f1, 0, 1)\n",
    "\n",
    "ex2.trapezio(n = n)"
   ]
  }
 ],
 "metadata": {
  "interpreter": {
   "hash": "b3ba2566441a7c06988d0923437866b63cedc61552a5af99d1f4fb67d367b25f"
  },
  "kernelspec": {
   "display_name": "Python 3.8.8 64-bit ('base': conda)",
   "name": "python3"
  },
  "language_info": {
   "codemirror_mode": {
    "name": "ipython",
    "version": 3
   },
   "file_extension": ".py",
   "mimetype": "text/x-python",
   "name": "python",
   "nbconvert_exporter": "python",
   "pygments_lexer": "ipython3",
   "version": "3.8.8"
  },
  "orig_nbformat": 4
 },
 "nbformat": 4,
 "nbformat_minor": 2
}
