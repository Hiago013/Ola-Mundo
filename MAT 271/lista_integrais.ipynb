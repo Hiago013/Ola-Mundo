{
 "cells": [
  {
   "cell_type": "code",
   "execution_count": 1,
   "metadata": {},
   "outputs": [],
   "source": [
    "from Integrais import Integrais as it\n",
    "from sympy import var, Lambda, cos, sin, tan, exp, log, ln, sqrt, solve\n",
    "x = var('x')"
   ]
  },
  {
   "cell_type": "code",
   "execution_count": 2,
   "metadata": {},
   "outputs": [
    {
     "data": {
      "text/latex": [
       "$\\displaystyle \\left( x \\mapsto \\frac{\\cos{\\left(x \\right)}}{x + 2} \\right)$"
      ],
      "text/plain": [
       "Lambda(x, cos(x)/(x + 2))"
      ]
     },
     "metadata": {},
     "output_type": "display_data"
    },
    {
     "name": "stdout",
     "output_type": "stream",
     "text": [
      "*************** Regra de 1/3 de Simpson ***************\n",
      "Portanto, o valor da integral é:\n",
      "0.026207, com |E| < 1e-06\n",
      "\n",
      "*************** Regra de 3/8 de Simpson ***************\n",
      "Portanto, o valor da integral é:\n",
      "0.026206, com |E| < 2e-06\n",
      "\n"
     ]
    }
   ],
   "source": [
    "f = Lambda(x, cos(x)/(x+2))\n",
    "a = 1\n",
    "b = 2\n",
    "display(f)\n",
    "\n",
    "Q1 = it(f, a, b)\n",
    "Q1_int13 = Q1.simpson1_3(n = 6, dp=6, dupla=False)\n",
    "Q1_int38 = Q1.simpson3_8(n=6, dp=6)"
   ]
  },
  {
   "cell_type": "code",
   "execution_count": 3,
   "metadata": {},
   "outputs": [
    {
     "data": {
      "text/latex": [
       "$\\displaystyle \\left( x \\mapsto \\sqrt{x^{2} + 1} \\right)$"
      ],
      "text/plain": [
       "Lambda(x, sqrt(x**2 + 1))"
      ]
     },
     "metadata": {},
     "output_type": "display_data"
    },
    {
     "name": "stdout",
     "output_type": "stream",
     "text": [
      "*************** Regra do Trapézio ***************\n",
      "Portanto a integral é:\n",
      "2.976529 com |E| < 0.041667\n",
      "\n",
      "********************  AVISO  ********************\n",
      "Para garantia de um |E| < 0.01, utilize n = 9.0\n",
      "\n"
     ]
    }
   ],
   "source": [
    "x = var('x')\n",
    "f = Lambda(x, sqrt(1 + x**2))\n",
    "a = 0\n",
    "b = 2\n",
    "display(f)\n",
    "\n",
    "\n",
    "Q2 = it(f, a, b)\n",
    "Q2_int13 = Q2.trapezio(n = 4, dp=6)\n"
   ]
  },
  {
   "cell_type": "code",
   "execution_count": 4,
   "metadata": {},
   "outputs": [
    {
     "data": {
      "text/latex": [
       "$\\displaystyle \\left( x \\mapsto \\frac{4}{x^{2} + 1} \\right)$"
      ],
      "text/plain": [
       "Lambda(x, 4/(x**2 + 1))"
      ]
     },
     "metadata": {},
     "output_type": "display_data"
    },
    {
     "name": "stdout",
     "output_type": "stream",
     "text": [
      "*************** Regra de 1/3 de Simpson ***************\n",
      "Portanto, o valor da integral é:\n",
      "3.274926, com |E| < 5.3e-05\n",
      "\n"
     ]
    }
   ],
   "source": [
    "x = var('x')\n",
    "f = Lambda(x, 4/(1+x**2))\n",
    "a = 0\n",
    "b = 1\n",
    "display(f)\n",
    "\n",
    "\n",
    "Q3 = it(f, a, b)\n",
    "\n",
    "Q3_int13 = Q3.simpson1_3(n = 10, dp=6)"
   ]
  },
  {
   "cell_type": "code",
   "execution_count": 5,
   "metadata": {},
   "outputs": [
    {
     "data": {
      "text/latex": [
       "$\\displaystyle \\left( x \\mapsto \\log{\\left(x^{3} + \\sqrt{e^{x} + 1} \\right)} \\right)$"
      ],
      "text/plain": [
       "Lambda(x, log(x**3 + sqrt(exp(x) + 1)))"
      ]
     },
     "metadata": {},
     "output_type": "display_data"
    },
    {
     "name": "stdout",
     "output_type": "stream",
     "text": [
      "*************** Regra de 3/8 de Simpson ***************\n",
      "Portanto, o valor da integral é:\n",
      "8.563331, com |E| < 0.007543\n",
      "\n"
     ]
    }
   ],
   "source": [
    "x = var('x')\n",
    "f = Lambda(x, ln(x**3 + sqrt(exp(x)+1)))\n",
    "a = 1\n",
    "b = 4\n",
    "display(f)\n",
    "\n",
    "\n",
    "Q4 = it(f, a, b)\n",
    "\n",
    "Q4_int13 = Q4.simpson3_8(n = 6, dp=6)"
   ]
  },
  {
   "cell_type": "code",
   "execution_count": 6,
   "metadata": {},
   "outputs": [
    {
     "name": "stdout",
     "output_type": "stream",
     "text": [
      "1.378133\n",
      "1.377992\n"
     ]
    }
   ],
   "source": [
    "# QUESTÃO 5\n",
    "def calc13(y, h):\n",
    "    k = 1\n",
    "    total = y[0] + y[-1]\n",
    "    while k < len(y)-1:\n",
    "        if k % 2 == 0:\n",
    "            total += 2 * y[k]\n",
    "        else:\n",
    "            total += 4 * y[k]\n",
    "        k += 1\n",
    "        total *= h/3\n",
    "    return total\n",
    "\n",
    "def calc38(y, h):\n",
    "    k = 1\n",
    "    total = y[0] + y[-1]\n",
    "    while k < len(y)-1:\n",
    "        if k % 3 == 0:\n",
    "            total += 2 * y[k]\n",
    "        else:\n",
    "            total += 3 * y[k]\n",
    "        k += 1\n",
    "    total *= 3/8 *h\n",
    "    return total\n",
    "\n",
    "\n",
    "\n",
    "x = [0, .2, .4, .6, .8, 1]\n",
    "y = [1, 1.197, 1.374, 1.503, 1.552, 1.468]\n",
    "h = .2\n",
    "\n",
    "y1 = y[:4] # 3 primeiros 3/8 de simpson\n",
    "\n",
    "y2 = y[3:] # 2 ultimos 1/3 de simpson\n",
    "\n",
    "print(f'{(calc38(y1, h) + calc13(y2,h)):.6f}')\n",
    "\n",
    "y3 = y[:3] # dois primeiros 1/3 de simpson\n",
    "y4 = y[2:] # 3 ultimos 3/8 de simpson\n",
    "print(f'{(calc38(y4, h) + calc13(y3,h)):.6f}')\n",
    "\n",
    "\n",
    "\n",
    "\n"
   ]
  },
  {
   "cell_type": "code",
   "execution_count": 7,
   "metadata": {},
   "outputs": [],
   "source": [
    "# Questão 6\n",
    "x = [0, 10, 20, 30, 50]\n",
    "y1 = [50.8, 86.2, 136, 72.8, 51]\n",
    "y2 = [113.6, 144.5, 185, 171.2, 95.3]\n",
    "\n"
   ]
  },
  {
   "cell_type": "code",
   "execution_count": 8,
   "metadata": {},
   "outputs": [
    {
     "data": {
      "text/plain": [
       "[0]"
      ]
     },
     "execution_count": 8,
     "metadata": {},
     "output_type": "execute_result"
    }
   ],
   "source": [
    "x = var('x')\n",
    "f = Lambda(x, sin(x)/x)\n",
    "a = 0.001\n",
    "b = 1\n",
    "solve(x, f(x).as_numer_denom()[1])\n",
    "\n"
   ]
  },
  {
   "cell_type": "code",
   "execution_count": 13,
   "metadata": {},
   "outputs": [
    {
     "data": {
      "text/latex": [
       "$\\displaystyle \\left( \\left( x, \\  y\\right) \\mapsto \\cos{\\left(x + y \\right)} \\right)$"
      ],
      "text/plain": [
       "Lambda((x, y), cos(x + y))"
      ]
     },
     "metadata": {},
     "output_type": "display_data"
    },
    {
     "name": "stdout",
     "output_type": "stream",
     "text": [
      "*************** Regra de 1/3 de Simpson -- Integral Dupla ***************\n"
     ]
    },
    {
     "data": {
      "text/latex": [
       "$\\displaystyle 0.0833333333333333 \\cos{\\left(x \\right)} + 0.333333333333333 \\cos{\\left(x + 0.25 \\right)} + 0.166666666666667 \\cos{\\left(x + 0.5 \\right)} + 0.333333333333333 \\cos{\\left(x + 0.75 \\right)} + 0.0833333333333333 \\cos{\\left(x + 1 \\right)}$"
      ],
      "text/plain": [
       "0.0833333333333333*cos(x) + 0.333333333333333*cos(x + 0.25) + 0.166666666666667*cos(x + 0.5) + 0.333333333333333*cos(x + 0.75) + 0.0833333333333333*cos(x + 1)"
      ]
     },
     "metadata": {},
     "output_type": "display_data"
    },
    {
     "name": "stdout",
     "output_type": "stream",
     "text": [
      "*************** Regra de 1/3 de Simpson ***************\n",
      "Portanto, o valor da integral é:\n",
      "0.1142, com |E| < 0.0006\n",
      "\n"
     ]
    },
    {
     "data": {
      "text/plain": [
       "0.1142"
      ]
     },
     "execution_count": 13,
     "metadata": {},
     "output_type": "execute_result"
    }
   ],
   "source": [
    "a1 = 0\n",
    "b1 = 1\n",
    "a2 = 0\n",
    "b2 = 2\n",
    "\n",
    "n = 4\n",
    "\n",
    "f = Lambda((x,y), cos(x + y))\n",
    "\n",
    "display(f)\n",
    "\n",
    "ex1 = it(f, a1, b1)\n",
    "\n",
    "f1 = ex1.simpson1_3(n = n, dupla = True)\n",
    "\n",
    "ex2 = it(f1, a2, b2)\n",
    "\n",
    "ex2.simpson1_3(n = n)"
   ]
  }
 ],
 "metadata": {
  "interpreter": {
   "hash": "b3ba2566441a7c06988d0923437866b63cedc61552a5af99d1f4fb67d367b25f"
  },
  "kernelspec": {
   "display_name": "Python 3.8.8 64-bit ('base': conda)",
   "name": "python3"
  },
  "language_info": {
   "codemirror_mode": {
    "name": "ipython",
    "version": 3
   },
   "file_extension": ".py",
   "mimetype": "text/x-python",
   "name": "python",
   "nbconvert_exporter": "python",
   "pygments_lexer": "ipython3",
   "version": "3.8.8"
  },
  "orig_nbformat": 4
 },
 "nbformat": 4,
 "nbformat_minor": 2
}
