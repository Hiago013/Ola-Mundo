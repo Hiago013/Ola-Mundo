{
 "cells": [
  {
   "cell_type": "code",
   "execution_count": 1,
   "metadata": {},
   "outputs": [],
   "source": [
    "from Integrais import Integrais as it\n",
    "from EDO import EDO\n",
    "from sympy import var, Lambda, cos, sin, tan, exp, log, ln, sqrt, solve\n",
    "import pandas as pd\n",
    "import numpy as np\n",
    "x = var('x')\n",
    "y = var('y')"
   ]
  },
  {
   "cell_type": "code",
   "execution_count": 2,
   "metadata": {},
   "outputs": [
    {
     "name": "stdout",
     "output_type": "stream",
     "text": [
      "f(x, y) =  -y**2 - y/x + x**(-2)\n",
      "-0.4431\n",
      "\n",
      "Solução Exata: y(2) = -0.5\n",
      "Solução Aproximada: y(2) = -0.4431\n",
      "Erro Absoluto: 0.0569\n"
     ]
    }
   ],
   "source": [
    "# Questão 01\n",
    "# Letra A\n",
    "x0 = 1\n",
    "y0 = -1\n",
    "dy = Lambda((x, y), 1/x**2 - y/x - y**2)\n",
    "print('f(x, y) = ', dy(x,y))\n",
    "I = (1, 2)\n",
    "N = 10\n",
    "Y = EDO(dy, y0, x0)\n",
    "y1, y_steps, x_steps = Y.euler(I, N, dp=4)\n",
    "print(y1)\n",
    "\n",
    "# Letra B\n",
    "print(f'\\nSolução Exata: y(2) = {-0.5}')\n",
    "print(f'Solução Aproximada: y(2) = {y1}')\n",
    "print(f'Erro Absoluto: {abs(-0.5 - y1):.4f}')\n"
   ]
  },
  {
   "cell_type": "code",
   "execution_count": 3,
   "metadata": {},
   "outputs": [
    {
     "name": "stdout",
     "output_type": "stream",
     "text": [
      "f(x, y) =  -x*y**2\n",
      "Solução Aproximada: y(1.5) = 0.8234\n"
     ]
    }
   ],
   "source": [
    "# Questão 02\n",
    "x0 = 1\n",
    "y0 = 2\n",
    "dy = Lambda((x, y), -x * y**2)\n",
    "print('f(x, y) = ', dy(x,y))\n",
    "I = (1, 1.5)\n",
    "N = 5\n",
    "Y = EDO(dy, y0, x0)\n",
    "y1, y_steps, x_steps = Y.euler(I, N, dp=4)\n",
    "print(f'Solução Aproximada: y(1.5) = {y1}')\n"
   ]
  },
  {
   "cell_type": "code",
   "execution_count": 4,
   "metadata": {},
   "outputs": [
    {
     "name": "stdout",
     "output_type": "stream",
     "text": [
      "f(x, y) =  x*y**0.333333333333333\n",
      "Metodo de Euler\n",
      "Solução aproximada: y(2) = 2.8576\n",
      "\n",
      " Método de Euler Aprimorado\n",
      "Solução aproximada: y(2) = 3.5507\n",
      "f(y) =  (x**2/3 + 1)**1.5\n"
     ]
    },
    {
     "data": {
      "text/html": [
       "<div>\n",
       "<style scoped>\n",
       "    .dataframe tbody tr th:only-of-type {\n",
       "        vertical-align: middle;\n",
       "    }\n",
       "\n",
       "    .dataframe tbody tr th {\n",
       "        vertical-align: top;\n",
       "    }\n",
       "\n",
       "    .dataframe thead th {\n",
       "        text-align: right;\n",
       "    }\n",
       "</style>\n",
       "<table border=\"1\" class=\"dataframe\">\n",
       "  <thead>\n",
       "    <tr style=\"text-align: right;\">\n",
       "      <th></th>\n",
       "      <th>Euler</th>\n",
       "      <th>Ruge-Kutta 2</th>\n",
       "      <th>Exato</th>\n",
       "    </tr>\n",
       "  </thead>\n",
       "  <tbody>\n",
       "    <tr>\n",
       "      <th>0.0</th>\n",
       "      <td>1.0000</td>\n",
       "      <td>1.0000</td>\n",
       "      <td>1.0000</td>\n",
       "    </tr>\n",
       "    <tr>\n",
       "      <th>0.4</th>\n",
       "      <td>1.0000</td>\n",
       "      <td>1.0800</td>\n",
       "      <td>1.0811</td>\n",
       "    </tr>\n",
       "    <tr>\n",
       "      <th>0.8</th>\n",
       "      <td>1.1600</td>\n",
       "      <td>1.3342</td>\n",
       "      <td>1.3365</td>\n",
       "    </tr>\n",
       "    <tr>\n",
       "      <th>1.2</th>\n",
       "      <td>1.4962</td>\n",
       "      <td>1.7960</td>\n",
       "      <td>1.8005</td>\n",
       "    </tr>\n",
       "    <tr>\n",
       "      <th>1.6</th>\n",
       "      <td>2.0452</td>\n",
       "      <td>2.5149</td>\n",
       "      <td>2.5231</td>\n",
       "    </tr>\n",
       "    <tr>\n",
       "      <th>2.0</th>\n",
       "      <td>2.8576</td>\n",
       "      <td>3.5507</td>\n",
       "      <td>3.5642</td>\n",
       "    </tr>\n",
       "  </tbody>\n",
       "</table>\n",
       "</div>"
      ],
      "text/plain": [
       "      Euler  Ruge-Kutta 2   Exato\n",
       "0.0  1.0000        1.0000  1.0000\n",
       "0.4  1.0000        1.0800  1.0811\n",
       "0.8  1.1600        1.3342  1.3365\n",
       "1.2  1.4962        1.7960  1.8005\n",
       "1.6  2.0452        2.5149  2.5231\n",
       "2.0  2.8576        3.5507  3.5642"
      ]
     },
     "execution_count": 4,
     "metadata": {},
     "output_type": "execute_result"
    }
   ],
   "source": [
    "# Questão 03\n",
    "# Letra A - Euler\n",
    "x0 = 0\n",
    "y0 = 1\n",
    "dy = Lambda((x, y), x * y ** (1/3))\n",
    "print('f(x, y) = ', dy(x,y))\n",
    "I = (0, 2)\n",
    "N = 5\n",
    "Y = EDO(dy, y0, x0)\n",
    "y1_euler, y_steps_euler, x_steps = Y.euler(I, N, dp=4)\n",
    "print('Metodo de Euler')\n",
    "print(f'Solução aproximada: y(2) = {y1_euler}')\n",
    "\n",
    "# Letra B - Euler Aprimorado\n",
    "y1_aprimorado, y_steps_apri, x_steps = Y.runge_kutta2(I, N, dp=4)\n",
    "print('\\n Método de Euler Aprimorado')\n",
    "print(f'Solução aproximada: y(2) = {y1_aprimorado}')\n",
    "\n",
    "# Letra C - Erro e Tabela\n",
    "y_ex = Lambda(x, ((x**2 + 3) / 3)**(3/2))\n",
    "print('f(y) = ', y_ex(x))\n",
    "y_ex_values = [np.round(float(y_ex(value)), 4) for value in x_steps]\n",
    "\n",
    "comparacao = {'Euler': y_steps_euler,\n",
    "            'Ruge-Kutta 2': y_steps_apri,\n",
    "            'Exato': y_ex_values}\n",
    "comparacao_df = pd.DataFrame(comparacao, index=x_steps)\n",
    "comparacao_df"
   ]
  },
  {
   "cell_type": "code",
   "execution_count": 5,
   "metadata": {},
   "outputs": [
    {
     "name": "stdout",
     "output_type": "stream",
     "text": [
      "f(x, y) =  -x*y**2\n",
      "Solução aproximada: y(1.5) = 0.8899\n"
     ]
    }
   ],
   "source": [
    "# Questão 04\n",
    "x0 = 1\n",
    "y0 = 2\n",
    "dy = Lambda((x, y), -x*y**2)\n",
    "print('f(x, y) = ', dy(x,y))\n",
    "N = 2\n",
    "I = (0, 1.5)\n",
    "Y = EDO(dy, y0, x0)\n",
    "y1, y_steps, x_steps = Y.runge_kutta4(I, N, dp=4)\n",
    "print(f'Solução aproximada: y(1.5) = {y1}')\n",
    "\n"
   ]
  },
  {
   "cell_type": "code",
   "execution_count": 6,
   "metadata": {},
   "outputs": [
    {
     "name": "stdout",
     "output_type": "stream",
     "text": [
      "f(x, y) =  y*cos(x)\n",
      "Solução aproximada: y(0.6) = 1.7588\n"
     ]
    }
   ],
   "source": [
    "# Questão 05\n",
    "x0 = 0\n",
    "y0 = 1\n",
    "dy = Lambda((x, y), y*cos(x))\n",
    "print('f(x, y) = ', dy(x,y))\n",
    "N = 3\n",
    "I = (0, 0.6)\n",
    "Y = EDO(dy, y0, x0)\n",
    "y1, y_steps, x_steps = Y.runge_kutta4(I, N, dp=4)\n",
    "print(f'Solução aproximada: y(0.6) = {y1}')\n"
   ]
  },
  {
   "cell_type": "code",
   "execution_count": 7,
   "metadata": {},
   "outputs": [
    {
     "name": "stdout",
     "output_type": "stream",
     "text": [
      "f(x, y) =  -0.1*y\n",
      "Solução aproximada: y(7) = 496.5245\n"
     ]
    }
   ],
   "source": [
    "# Questão 06\n",
    "x0 = 0\n",
    "y0 = 1000\n",
    "dy = Lambda((x, y), -0.1 * y)\n",
    "print('f(x, y) = ', dy(x,y))\n",
    "N = 2000\n",
    "I = (0, 2)\n",
    "Y = EDO(dy, y0, x0)\n",
    "y1, y_steps, x_steps = Y.euler(I, N, dp=4)\n",
    "k = 1\n",
    "while y1 > 500:\n",
    "    y1, y_steps, x_steps = Y.euler((I[0], I[1]+k), N, dp=4)\n",
    "    k += 1\n",
    "k -= 1\n",
    "print(f'Solução aproximada: y({k+I[1]}) = {y1}')"
   ]
  },
  {
   "cell_type": "code",
   "execution_count": 31,
   "metadata": {},
   "outputs": [
    {
     "name": "stdout",
     "output_type": "stream",
     "text": [
      "f(x, y) =  1\n",
      "Solução aproximada: y(0.2) = 3.2\n"
     ]
    }
   ],
   "source": [
    "# Questão 7\n",
    "\n",
    "# dy/dx = r(x) y**2 + a(x)y + b(x)\n",
    "# como queremos a resposta para x = 0.2\n",
    "\n",
    "# valor aproximado\n",
    "x0 = 0\n",
    "y0 = 3\n",
    "dy = Lambda((x, y), 1)\n",
    "print('f(x, y) = ', dy(x,y))\n",
    "N = 2\n",
    "I = (0, 0.2)\n",
    "Y = EDO(dy, y0, x0)\n",
    "y1, y_steps, x_steps = Y.runge_kutta4(I, N, dp=4)\n",
    "print(f'Solução aproximada: y({I[1]}) = {y1}')\n",
    "\n"
   ]
  },
  {
   "cell_type": "code",
   "execution_count": null,
   "metadata": {},
   "outputs": [],
   "source": []
  }
 ],
 "metadata": {
  "interpreter": {
   "hash": "b3ba2566441a7c06988d0923437866b63cedc61552a5af99d1f4fb67d367b25f"
  },
  "kernelspec": {
   "display_name": "Python 3.8.8 64-bit ('base': conda)",
   "name": "python3"
  },
  "language_info": {
   "codemirror_mode": {
    "name": "ipython",
    "version": 3
   },
   "file_extension": ".py",
   "mimetype": "text/x-python",
   "name": "python",
   "nbconvert_exporter": "python",
   "pygments_lexer": "ipython3",
   "version": "3.8.8"
  },
  "orig_nbformat": 4
 },
 "nbformat": 4,
 "nbformat_minor": 2
}
