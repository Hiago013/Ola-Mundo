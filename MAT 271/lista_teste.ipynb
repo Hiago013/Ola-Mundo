{
 "cells": [
  {
   "cell_type": "code",
   "execution_count": 2,
   "metadata": {},
   "outputs": [],
   "source": [
    "from EDO import EDO\n",
    "from sympy import var, Lambda, cos, sin, tan, exp, log, ln, sqrt, solve\n",
    "x = var('x')\n",
    "y = var('y')"
   ]
  },
  {
   "cell_type": "code",
   "execution_count": 4,
   "metadata": {},
   "outputs": [
    {
     "name": "stdout",
     "output_type": "stream",
     "text": [
      "f(x, y) =  -y**2 - y/x + x**(-2)\n",
      "Solução Aproximada: y(1.6) = -0.618013\n"
     ]
    }
   ],
   "source": [
    "# Questão 01\n",
    "x0 = 1\n",
    "y0 = -1\n",
    "dy = Lambda((x, y), x**-2 - y/x - y**2)\n",
    "print('f(x, y) = ', dy(x,y))\n",
    "I = (1, 1.6)\n",
    "N = 4\n",
    "Y = EDO(dy, y0, x0)\n",
    "y1, y_steps, x_steps = Y.runge_kutta2(I, N, dp=6)\n",
    "print(f'Solução Aproximada: y(1.6) = {y1}')"
   ]
  },
  {
   "cell_type": "code",
   "execution_count": 6,
   "metadata": {},
   "outputs": [
    {
     "name": "stdout",
     "output_type": "stream",
     "text": [
      "f(x, y) =  1 + y/x\n",
      "Solução Aproximada: y(2) = 5.377426\n"
     ]
    }
   ],
   "source": [
    "# Questão 02\n",
    "x0 = 1\n",
    "y0 = 2\n",
    "dy = Lambda((x, y), 1 + y/x)\n",
    "print('f(x, y) = ', dy(x,y))\n",
    "I = (1, 2)\n",
    "N = 5\n",
    "Y = EDO(dy, y0, x0)\n",
    "y1, y_steps, x_steps = Y.runge_kutta2(I, N, dp=6)\n",
    "print(f'Solução Aproximada: y(2) = {y1}')"
   ]
  },
  {
   "cell_type": "code",
   "execution_count": 7,
   "metadata": {},
   "outputs": [
    {
     "name": "stdout",
     "output_type": "stream",
     "text": [
      "f(x, y) =  x*y**0.333333333333333\n",
      "Solução Aproximada: y(1) = 1.539597\n"
     ]
    }
   ],
   "source": [
    "# Questão 05\n",
    "x0 = 0\n",
    "y0 = 1\n",
    "dy = Lambda((x, y), x * y**(1/3))\n",
    "print('f(x, y) = ', dy(x,y))\n",
    "I = (0, 1)\n",
    "N = 4\n",
    "Y = EDO(dy, y0, x0)\n",
    "y1, y_steps, x_steps = Y.runge_kutta4(I, N, dp=6)\n",
    "print(f'Solução Aproximada: y(1) = {y1}')"
   ]
  }
 ],
 "metadata": {
  "interpreter": {
   "hash": "b3ba2566441a7c06988d0923437866b63cedc61552a5af99d1f4fb67d367b25f"
  },
  "kernelspec": {
   "display_name": "Python 3.8.8 64-bit ('base': conda)",
   "name": "python3"
  },
  "language_info": {
   "codemirror_mode": {
    "name": "ipython",
    "version": 3
   },
   "file_extension": ".py",
   "mimetype": "text/x-python",
   "name": "python",
   "nbconvert_exporter": "python",
   "pygments_lexer": "ipython3",
   "version": "3.8.8"
  },
  "orig_nbformat": 4
 },
 "nbformat": 4,
 "nbformat_minor": 2
}
