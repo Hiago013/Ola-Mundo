{
 "cells": [
  {
   "cell_type": "code",
   "execution_count": 1,
   "metadata": {},
   "outputs": [],
   "source": [
    "from Integrais import Integrais as it\n",
    "from EDO import EDO\n",
    "from sympy import var, Lambda, cos, sin, tan, exp, log, ln, sqrt, solve\n",
    "x = var('x')\n",
    "y = var('y')"
   ]
  },
  {
   "cell_type": "code",
   "execution_count": 2,
   "metadata": {},
   "outputs": [
    {
     "name": "stdout",
     "output_type": "stream",
     "text": [
      "f(x, y) =  x*y**2 - y\n",
      "Solução Aproximada: y(2) = 0.22829\n"
     ]
    }
   ],
   "source": [
    "# Questão 01\n",
    "x0 = 0\n",
    "y0 = 1\n",
    "dy = Lambda((x, y), x*y**2 - y)\n",
    "print('f(x, y) = ', dy(x,y))\n",
    "I = (0, 2)\n",
    "N = 8\n",
    "Y = EDO(dy, y0, x0)\n",
    "y1, y_steps, x_steps = Y.euler(I, N, dp=6)\n",
    "print(f'Solução Aproximada: y(2) = {y1}')"
   ]
  },
  {
   "cell_type": "code",
   "execution_count": 3,
   "metadata": {},
   "outputs": [
    {
     "name": "stdout",
     "output_type": "stream",
     "text": [
      "f(x, y) =  2*x + y\n",
      "Solução Aproximada: y(0.6) = 0.431696\n"
     ]
    }
   ],
   "source": [
    "# Questão 02\n",
    "x0 = 0\n",
    "y0 = 0\n",
    "dy = Lambda((x, y), 2*x + y)\n",
    "print('f(x, y) = ', dy(x,y))\n",
    "I = (0, 0.6)\n",
    "N = 3\n",
    "Y = EDO(dy, y0, x0)\n",
    "y1, y_steps, x_steps = Y.runge_kutta2(I, N, dp=7)\n",
    "print(f'Solução Aproximada: y(0.6) = {y1}')"
   ]
  },
  {
   "cell_type": "code",
   "execution_count": 4,
   "metadata": {},
   "outputs": [
    {
     "data": {
      "text/latex": [
       "$\\displaystyle \\left( x \\mapsto \\sqrt{x^{2} + 4} \\right)$"
      ],
      "text/plain": [
       "Lambda(x, sqrt(x**2 + 4))"
      ]
     },
     "metadata": {},
     "output_type": "display_data"
    },
    {
     "name": "stdout",
     "output_type": "stream",
     "text": [
      "*************** Regra de 3/8 de Simpson ***************\n",
      "Portanto, o valor da integral é:\n",
      "7.7978, com |E| < 0.0009\n",
      "\n"
     ]
    },
    {
     "data": {
      "text/plain": [
       "7.7978"
      ]
     },
     "execution_count": 4,
     "metadata": {},
     "output_type": "execute_result"
    }
   ],
   "source": [
    "# Questão 3\n",
    "f = Lambda(x, sqrt(4 + x**2))\n",
    "a = 0\n",
    "b = 3\n",
    "display(f)\n",
    "\n",
    "Q1 = it(f, a, b)\n",
    "Q1.simpson3_8(n=6)"
   ]
  },
  {
   "cell_type": "code",
   "execution_count": 5,
   "metadata": {},
   "outputs": [
    {
     "data": {
      "text/latex": [
       "$\\displaystyle \\left( x \\mapsto x^{3} e^{2 x} \\right)$"
      ],
      "text/plain": [
       "Lambda(x, x**3*exp(2*x))"
      ]
     },
     "metadata": {},
     "output_type": "display_data"
    },
    {
     "name": "stdout",
     "output_type": "stream",
     "text": [
      "*************** Regra de 1/3 de Simpson ***************\n",
      "Portanto, o valor da integral é:\n",
      "116.7145, com |E| < 2.0095\n",
      "\n",
      "********************  AVISO  ********************\n",
      "Para garantia de um |E| < 0.01, utilize n = 32.0\n",
      "\n"
     ]
    },
    {
     "data": {
      "text/plain": [
       "116.7145"
      ]
     },
     "execution_count": 5,
     "metadata": {},
     "output_type": "execute_result"
    }
   ],
   "source": [
    "# Questão 4\n",
    "f = Lambda(x, x**3 * exp(2*x))\n",
    "a = 0\n",
    "b = 2\n",
    "display(f)\n",
    "\n",
    "Q1 = it(f, a, b)\n",
    "Q1.simpson1_3(n=8)"
   ]
  }
 ],
 "metadata": {
  "interpreter": {
   "hash": "b3ba2566441a7c06988d0923437866b63cedc61552a5af99d1f4fb67d367b25f"
  },
  "kernelspec": {
   "display_name": "Python 3.8.8 64-bit ('base': conda)",
   "name": "python3"
  },
  "language_info": {
   "codemirror_mode": {
    "name": "ipython",
    "version": 3
   },
   "file_extension": ".py",
   "mimetype": "text/x-python",
   "name": "python",
   "nbconvert_exporter": "python",
   "pygments_lexer": "ipython3",
   "version": "3.8.8"
  },
  "orig_nbformat": 4
 },
 "nbformat": 4,
 "nbformat_minor": 2
}
